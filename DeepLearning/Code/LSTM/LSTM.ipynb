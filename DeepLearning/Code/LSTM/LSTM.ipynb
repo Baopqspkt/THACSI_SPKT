{
  "nbformat": 4,
  "nbformat_minor": 0,
  "metadata": {
    "colab": {
      "name": "LSTM",
      "provenance": [],
      "collapsed_sections": []
    },
    "kernelspec": {
      "name": "python3",
      "display_name": "Python 3"
    },
    "language_info": {
      "name": "python"
    },
    "accelerator": "GPU"
  },
  "cells": [
    {
      "cell_type": "code",
      "metadata": {
        "id": "ZbwyXM49uPHY"
      },
      "source": [
        "import numpy as np\n",
        "import matplotlib.pyplot as plt\n",
        "import pandas as pd\n",
        "import os.path\n",
        "from os import path\n",
        "from keras.models import Sequential\n",
        "from keras.layers import Dense\n",
        "from keras.layers import LSTM\n",
        "from keras.layers import Dropout"
      ],
      "execution_count": 2,
      "outputs": []
    },
    {
      "cell_type": "code",
      "metadata": {
        "id": "7iuacszExwGW"
      },
      "source": [
        "\n",
        "dataset_train = pd.read_csv('vcb_2009_2018.csv')\n",
        "training_set = dataset_train.iloc[:, 1:2].values"
      ],
      "execution_count": 4,
      "outputs": []
    },
    {
      "cell_type": "code",
      "metadata": {
        "id": "1l6rWitvwd_u"
      },
      "source": [
        "\n",
        "# Thuc hien scale du lieu gia ve khoang 0,1\n",
        "from sklearn.preprocessing import MinMaxScaler\n",
        "sc = MinMaxScaler(feature_range = (0, 1))\n",
        "training_set_scaled = sc.fit_transform(training_set)\n",
        "\n",
        "# Tao du lieu train, X = 60 time steps, Y =  1 time step\n",
        "X_train = []\n",
        "y_train = []\n",
        "no_of_sample = len(training_set)\n",
        "\n",
        "for i in range(60, no_of_sample):\n",
        "    X_train.append(training_set_scaled[i-60:i, 0])\n",
        "    y_train.append(training_set_scaled[i, 0])\n",
        "\n",
        "X_train, y_train = np.array(X_train), np.array(y_train)\n",
        "\n",
        "X_train = np.reshape(X_train, (X_train.shape[0], X_train.shape[1], 1))\n",
        "\n",
        "\n"
      ],
      "execution_count": 5,
      "outputs": []
    },
    {
      "cell_type": "code",
      "metadata": {
        "colab": {
          "base_uri": "https://localhost:8080/"
        },
        "id": "P_3Z0SoOx3IB",
        "outputId": "54c4c833-a561-4bad-8082-8ac58f251af1"
      },
      "source": [
        "\n",
        "regressor = Sequential()\n",
        "regressor.add(LSTM(units = 50, return_sequences = True, input_shape = (X_train.shape[1], 1)))\n",
        "regressor.add(Dropout(0.2))\n",
        "regressor.add(LSTM(units = 50, return_sequences = True))\n",
        "regressor.add(Dropout(0.2))\n",
        "regressor.add(LSTM(units = 50, return_sequences = True))\n",
        "regressor.add(Dropout(0.2))\n",
        "regressor.add(LSTM(units = 50))\n",
        "regressor.add(Dropout(0.2))\n",
        "regressor.add(Dense(units = 1))\n",
        "regressor.summary()\n",
        "regressor.compile(optimizer = 'adam', loss = 'mean_squared_error')\n",
        "\n"
      ],
      "execution_count": 6,
      "outputs": [
        {
          "output_type": "stream",
          "text": [
            "Model: \"sequential\"\n",
            "_________________________________________________________________\n",
            "Layer (type)                 Output Shape              Param #   \n",
            "=================================================================\n",
            "lstm (LSTM)                  (None, 60, 50)            10400     \n",
            "_________________________________________________________________\n",
            "dropout (Dropout)            (None, 60, 50)            0         \n",
            "_________________________________________________________________\n",
            "lstm_1 (LSTM)                (None, 60, 50)            20200     \n",
            "_________________________________________________________________\n",
            "dropout_1 (Dropout)          (None, 60, 50)            0         \n",
            "_________________________________________________________________\n",
            "lstm_2 (LSTM)                (None, 60, 50)            20200     \n",
            "_________________________________________________________________\n",
            "dropout_2 (Dropout)          (None, 60, 50)            0         \n",
            "_________________________________________________________________\n",
            "lstm_3 (LSTM)                (None, 50)                20200     \n",
            "_________________________________________________________________\n",
            "dropout_3 (Dropout)          (None, 50)                0         \n",
            "_________________________________________________________________\n",
            "dense (Dense)                (None, 1)                 51        \n",
            "=================================================================\n",
            "Total params: 71,051\n",
            "Trainable params: 71,051\n",
            "Non-trainable params: 0\n",
            "_________________________________________________________________\n"
          ],
          "name": "stdout"
        }
      ]
    },
    {
      "cell_type": "code",
      "metadata": {
        "colab": {
          "base_uri": "https://localhost:8080/"
        },
        "id": "Q8GOMf4c0pHS",
        "outputId": "7b34cafd-716f-403e-ae39-34e5d6a9034e"
      },
      "source": [
        "\n",
        "if path.exists(\"mymodel.h5\"):\n",
        "    regressor.load_weights(\"mymodel.h5\")\n",
        "else:\n",
        "    regressor.fit(X_train, y_train, epochs = 100, batch_size = 32)\n",
        "    regressor.save(\"mymodel.h5\")"
      ],
      "execution_count": 7,
      "outputs": [
        {
          "output_type": "stream",
          "text": [
            "Epoch 1/100\n",
            "73/73 [==============================] - 36s 13ms/step - loss: 0.0370\n",
            "Epoch 2/100\n",
            "73/73 [==============================] - 1s 12ms/step - loss: 0.0046\n",
            "Epoch 3/100\n",
            "73/73 [==============================] - 1s 12ms/step - loss: 0.0042\n",
            "Epoch 4/100\n",
            "73/73 [==============================] - 1s 12ms/step - loss: 0.0041\n",
            "Epoch 5/100\n",
            "73/73 [==============================] - 1s 12ms/step - loss: 0.0033\n",
            "Epoch 6/100\n",
            "73/73 [==============================] - 1s 12ms/step - loss: 0.0034\n",
            "Epoch 7/100\n",
            "73/73 [==============================] - 1s 12ms/step - loss: 0.0032\n",
            "Epoch 8/100\n",
            "73/73 [==============================] - 1s 12ms/step - loss: 0.0033\n",
            "Epoch 9/100\n",
            "73/73 [==============================] - 1s 12ms/step - loss: 0.0034\n",
            "Epoch 10/100\n",
            "73/73 [==============================] - 1s 12ms/step - loss: 0.0026\n",
            "Epoch 11/100\n",
            "73/73 [==============================] - 1s 12ms/step - loss: 0.0025\n",
            "Epoch 12/100\n",
            "73/73 [==============================] - 1s 12ms/step - loss: 0.0026\n",
            "Epoch 13/100\n",
            "73/73 [==============================] - 1s 12ms/step - loss: 0.0022\n",
            "Epoch 14/100\n",
            "73/73 [==============================] - 1s 12ms/step - loss: 0.0022\n",
            "Epoch 15/100\n",
            "73/73 [==============================] - 1s 12ms/step - loss: 0.0023\n",
            "Epoch 16/100\n",
            "73/73 [==============================] - 1s 12ms/step - loss: 0.0021\n",
            "Epoch 17/100\n",
            "73/73 [==============================] - 1s 12ms/step - loss: 0.0019\n",
            "Epoch 18/100\n",
            "73/73 [==============================] - 1s 12ms/step - loss: 0.0019\n",
            "Epoch 19/100\n",
            "73/73 [==============================] - 1s 12ms/step - loss: 0.0018\n",
            "Epoch 20/100\n",
            "73/73 [==============================] - 1s 12ms/step - loss: 0.0018\n",
            "Epoch 21/100\n",
            "73/73 [==============================] - 1s 12ms/step - loss: 0.0019\n",
            "Epoch 22/100\n",
            "73/73 [==============================] - 1s 12ms/step - loss: 0.0018\n",
            "Epoch 23/100\n",
            "73/73 [==============================] - 1s 12ms/step - loss: 0.0016\n",
            "Epoch 24/100\n",
            "73/73 [==============================] - 1s 12ms/step - loss: 0.0018\n",
            "Epoch 25/100\n",
            "73/73 [==============================] - 1s 12ms/step - loss: 0.0014\n",
            "Epoch 26/100\n",
            "73/73 [==============================] - 1s 12ms/step - loss: 0.0015\n",
            "Epoch 27/100\n",
            "73/73 [==============================] - 1s 12ms/step - loss: 0.0015\n",
            "Epoch 28/100\n",
            "73/73 [==============================] - 1s 12ms/step - loss: 0.0014\n",
            "Epoch 29/100\n",
            "73/73 [==============================] - 1s 12ms/step - loss: 0.0016\n",
            "Epoch 30/100\n",
            "73/73 [==============================] - 1s 12ms/step - loss: 0.0014\n",
            "Epoch 31/100\n",
            "73/73 [==============================] - 1s 12ms/step - loss: 0.0014\n",
            "Epoch 32/100\n",
            "73/73 [==============================] - 1s 12ms/step - loss: 0.0014\n",
            "Epoch 33/100\n",
            "73/73 [==============================] - 1s 13ms/step - loss: 0.0011\n",
            "Epoch 34/100\n",
            "73/73 [==============================] - 1s 13ms/step - loss: 0.0011\n",
            "Epoch 35/100\n",
            "73/73 [==============================] - 1s 12ms/step - loss: 0.0013\n",
            "Epoch 36/100\n",
            "73/73 [==============================] - 1s 13ms/step - loss: 0.0014\n",
            "Epoch 37/100\n",
            "73/73 [==============================] - 1s 12ms/step - loss: 0.0011\n",
            "Epoch 38/100\n",
            "73/73 [==============================] - 1s 12ms/step - loss: 0.0012\n",
            "Epoch 39/100\n",
            "73/73 [==============================] - 1s 12ms/step - loss: 0.0011\n",
            "Epoch 40/100\n",
            "73/73 [==============================] - 1s 12ms/step - loss: 0.0012\n",
            "Epoch 41/100\n",
            "73/73 [==============================] - 1s 12ms/step - loss: 0.0011\n",
            "Epoch 42/100\n",
            "73/73 [==============================] - 1s 12ms/step - loss: 0.0010\n",
            "Epoch 43/100\n",
            "73/73 [==============================] - 1s 12ms/step - loss: 0.0012\n",
            "Epoch 44/100\n",
            "73/73 [==============================] - 1s 12ms/step - loss: 0.0011\n",
            "Epoch 45/100\n",
            "73/73 [==============================] - 1s 12ms/step - loss: 0.0011\n",
            "Epoch 46/100\n",
            "73/73 [==============================] - 1s 12ms/step - loss: 9.9299e-04\n",
            "Epoch 47/100\n",
            "73/73 [==============================] - 1s 12ms/step - loss: 9.9979e-04\n",
            "Epoch 48/100\n",
            "73/73 [==============================] - 1s 12ms/step - loss: 9.6591e-04\n",
            "Epoch 49/100\n",
            "73/73 [==============================] - 1s 12ms/step - loss: 0.0011\n",
            "Epoch 50/100\n",
            "73/73 [==============================] - 1s 12ms/step - loss: 9.7282e-04\n",
            "Epoch 51/100\n",
            "73/73 [==============================] - 1s 12ms/step - loss: 0.0011\n",
            "Epoch 52/100\n",
            "73/73 [==============================] - 1s 12ms/step - loss: 8.9558e-04\n",
            "Epoch 53/100\n",
            "73/73 [==============================] - 1s 12ms/step - loss: 8.6317e-04\n",
            "Epoch 54/100\n",
            "73/73 [==============================] - 1s 12ms/step - loss: 9.4194e-04\n",
            "Epoch 55/100\n",
            "73/73 [==============================] - 1s 12ms/step - loss: 7.9481e-04\n",
            "Epoch 56/100\n",
            "73/73 [==============================] - 1s 12ms/step - loss: 9.7312e-04\n",
            "Epoch 57/100\n",
            "73/73 [==============================] - 1s 12ms/step - loss: 0.0011\n",
            "Epoch 58/100\n",
            "73/73 [==============================] - 1s 12ms/step - loss: 9.2917e-04\n",
            "Epoch 59/100\n",
            "73/73 [==============================] - 1s 12ms/step - loss: 9.1807e-04\n",
            "Epoch 60/100\n",
            "73/73 [==============================] - 1s 12ms/step - loss: 0.0011\n",
            "Epoch 61/100\n",
            "73/73 [==============================] - 1s 12ms/step - loss: 9.0432e-04\n",
            "Epoch 62/100\n",
            "73/73 [==============================] - 1s 12ms/step - loss: 9.8577e-04\n",
            "Epoch 63/100\n",
            "73/73 [==============================] - 1s 12ms/step - loss: 9.7844e-04\n",
            "Epoch 64/100\n",
            "73/73 [==============================] - 1s 12ms/step - loss: 8.0607e-04\n",
            "Epoch 65/100\n",
            "73/73 [==============================] - 1s 12ms/step - loss: 9.5861e-04\n",
            "Epoch 66/100\n",
            "73/73 [==============================] - 1s 12ms/step - loss: 7.9558e-04\n",
            "Epoch 67/100\n",
            "73/73 [==============================] - 1s 12ms/step - loss: 7.9725e-04\n",
            "Epoch 68/100\n",
            "73/73 [==============================] - 1s 12ms/step - loss: 8.5086e-04\n",
            "Epoch 69/100\n",
            "73/73 [==============================] - 1s 12ms/step - loss: 7.3165e-04\n",
            "Epoch 70/100\n",
            "73/73 [==============================] - 1s 12ms/step - loss: 7.8946e-04\n",
            "Epoch 71/100\n",
            "73/73 [==============================] - 1s 12ms/step - loss: 8.1216e-04\n",
            "Epoch 72/100\n",
            "73/73 [==============================] - 1s 12ms/step - loss: 8.1039e-04\n",
            "Epoch 73/100\n",
            "73/73 [==============================] - 1s 12ms/step - loss: 7.8370e-04\n",
            "Epoch 74/100\n",
            "73/73 [==============================] - 1s 12ms/step - loss: 7.5572e-04\n",
            "Epoch 75/100\n",
            "73/73 [==============================] - 1s 12ms/step - loss: 9.0130e-04\n",
            "Epoch 76/100\n",
            "73/73 [==============================] - 1s 12ms/step - loss: 8.5903e-04\n",
            "Epoch 77/100\n",
            "73/73 [==============================] - 1s 12ms/step - loss: 9.1509e-04\n",
            "Epoch 78/100\n",
            "73/73 [==============================] - 1s 12ms/step - loss: 7.5978e-04\n",
            "Epoch 79/100\n",
            "73/73 [==============================] - 1s 12ms/step - loss: 0.0010\n",
            "Epoch 80/100\n",
            "73/73 [==============================] - 1s 12ms/step - loss: 7.6164e-04\n",
            "Epoch 81/100\n",
            "73/73 [==============================] - 1s 12ms/step - loss: 8.8803e-04\n",
            "Epoch 82/100\n",
            "73/73 [==============================] - 1s 12ms/step - loss: 8.1353e-04\n",
            "Epoch 83/100\n",
            "73/73 [==============================] - 1s 12ms/step - loss: 7.8948e-04\n",
            "Epoch 84/100\n",
            "73/73 [==============================] - 1s 12ms/step - loss: 7.8608e-04\n",
            "Epoch 85/100\n",
            "73/73 [==============================] - 1s 12ms/step - loss: 0.0010\n",
            "Epoch 86/100\n",
            "73/73 [==============================] - 1s 12ms/step - loss: 8.0302e-04\n",
            "Epoch 87/100\n",
            "73/73 [==============================] - 1s 12ms/step - loss: 8.0971e-04\n",
            "Epoch 88/100\n",
            "73/73 [==============================] - 1s 12ms/step - loss: 7.5772e-04\n",
            "Epoch 89/100\n",
            "73/73 [==============================] - 1s 12ms/step - loss: 7.0835e-04\n",
            "Epoch 90/100\n",
            "73/73 [==============================] - 1s 12ms/step - loss: 7.1295e-04\n",
            "Epoch 91/100\n",
            "73/73 [==============================] - 1s 12ms/step - loss: 7.8066e-04\n",
            "Epoch 92/100\n",
            "73/73 [==============================] - 1s 12ms/step - loss: 6.6911e-04\n",
            "Epoch 93/100\n",
            "73/73 [==============================] - 1s 12ms/step - loss: 7.0527e-04\n",
            "Epoch 94/100\n",
            "73/73 [==============================] - 1s 12ms/step - loss: 7.8387e-04\n",
            "Epoch 95/100\n",
            "73/73 [==============================] - 1s 12ms/step - loss: 6.5930e-04\n",
            "Epoch 96/100\n",
            "73/73 [==============================] - 1s 12ms/step - loss: 7.6085e-04\n",
            "Epoch 97/100\n",
            "73/73 [==============================] - 1s 12ms/step - loss: 7.5919e-04\n",
            "Epoch 98/100\n",
            "73/73 [==============================] - 1s 12ms/step - loss: 7.3551e-04\n",
            "Epoch 99/100\n",
            "73/73 [==============================] - 1s 13ms/step - loss: 7.1911e-04\n",
            "Epoch 100/100\n",
            "73/73 [==============================] - 1s 12ms/step - loss: 9.9874e-04\n"
          ],
          "name": "stdout"
        }
      ]
    },
    {
      "cell_type": "code",
      "metadata": {
        "id": "n_WPnOE9x6Cs"
      },
      "source": [
        "\n",
        "dataset_test = pd.read_csv('vcb_2019.csv')\n",
        "real_stock_price = dataset_test.iloc[:, 1:2].values"
      ],
      "execution_count": 8,
      "outputs": []
    },
    {
      "cell_type": "code",
      "metadata": {
        "colab": {
          "base_uri": "https://localhost:8080/",
          "height": 295
        },
        "id": "bG9LVJu3xljP",
        "outputId": "946b0143-fde3-430c-90a7-0e3561a42600"
      },
      "source": [
        "\n",
        "dataset_total = pd.concat((dataset_train['CLOSE'], dataset_test['CLOSE']), axis = 0)\n",
        "inputs = dataset_total[len(dataset_total) - len(dataset_test) - 60:].values\n",
        "inputs = inputs.reshape(-1,1)\n",
        "inputs = sc.transform(inputs)\n",
        "\n",
        "X_test = []\n",
        "no_of_sample = len(inputs)\n",
        "\n",
        "for i in range(60, no_of_sample):\n",
        "    X_test.append(inputs[i-60:i, 0])\n",
        "\n",
        "X_test = np.array(X_test)\n",
        "X_test = np.reshape(X_test, (X_test.shape[0], X_test.shape[1], 1))\n",
        "predicted_stock_price = regressor.predict(X_test)\n",
        "predicted_stock_price = sc.inverse_transform(predicted_stock_price)\n",
        "\n",
        "plt.plot(real_stock_price, color = 'red', label = 'Real VCB Stock Price')\n",
        "plt.plot(predicted_stock_price, color = 'blue', label = 'Predicted VCB Stock Price')\n",
        "plt.title('VCB Stock Price Prediction')\n",
        "plt.xlabel('Time')\n",
        "plt.ylabel('VCB Stock Price')\n",
        "plt.legend()\n",
        "plt.show()\n",
        "\n",
        "\n",
        "\n",
        "\n"
      ],
      "execution_count": 9,
      "outputs": [
        {
          "output_type": "display_data",
          "data": {
            "image/png": "[encoded data removed]",
            "text/plain": [
              "<Figure size 432x288 with 1 Axes>"
            ]
          },
          "metadata": {
            "tags": [],
            "needs_background": "light"
          }
        }
      ]
    },
    {
      "cell_type": "markdown",
      "metadata": {
        "id": "qvGpNokrwdu4"
      },
      "source": [
        ""
      ]
    },
    {
      "cell_type": "markdown",
      "metadata": {
        "id": "Ag4rXnHFuizh"
      },
      "source": [
        "# Mục mới"
      ]
    }
  ]
}