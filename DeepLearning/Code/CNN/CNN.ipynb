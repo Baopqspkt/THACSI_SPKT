{
  "nbformat": 4,
  "nbformat_minor": 0,
  "metadata": {
    "colab": {
      "name": "NN.ipynb",
      "provenance": [],
      "collapsed_sections": []
    },
    "kernelspec": {
      "name": "python3",
      "display_name": "Python 3"
    },
    "language_info": {
      "name": "python"
    },
    "accelerator": "GPU"
  },
  "cells": [
    {
      "cell_type": "code",
      "metadata": {
        "id": "sDoo-S8nGgCw"
      },
      "source": [
        "# 1. Thêm các thư viện cần thiết\n",
        "import numpy as np\n",
        "import matplotlib.pyplot as plt\n",
        "from keras.models import Sequential\n",
        "from keras.layers import Dense, Dropout, Activation, Flatten\n",
        "from keras.layers import Conv2D, MaxPooling2D\n",
        "from keras.utils import np_utils\n",
        "from keras.datasets import mnist"
      ],
      "execution_count": 1,
      "outputs": []
    },
    {
      "cell_type": "code",
      "metadata": {
        "colab": {
          "base_uri": "https://localhost:8080/"
        },
        "id": "LazGBZMeGvEh",
        "outputId": "f181b9b1-cc1b-4cb1-fcf6-3a2cf2e28917"
      },
      "source": [
        "\n",
        "# 2. Load dữ liệu MNIST\n",
        "(X_train, y_train), (X_test, y_test) = mnist.load_data()\n",
        "X_val, y_val = X_train[50000:60000,:], y_train[50000:60000]\n",
        "X_train, y_train = X_train[:50000,:], y_train[:50000]\n",
        "print(X_train.shape)"
      ],
      "execution_count": 3,
      "outputs": [
        {
          "output_type": "stream",
          "text": [
            "(50000, 28, 28)\n"
          ],
          "name": "stdout"
        }
      ]
    },
    {
      "cell_type": "code",
      "metadata": {
        "id": "hZD3O_jjHEZK"
      },
      "source": [
        "\n",
        "X_train = X_train.reshape(X_train.shape[0], 28, 28, 1)\n",
        "X_val = X_val.reshape(X_val.shape[0], 28, 28, 1)\n",
        "X_test = X_test.reshape(X_test.shape[0], 28, 28, 1)"
      ],
      "execution_count": 4,
      "outputs": []
    },
    {
      "cell_type": "code",
      "metadata": {
        "colab": {
          "base_uri": "https://localhost:8080/"
        },
        "id": "8sr0Ime7lQDU",
        "outputId": "c46297c6-b20c-4bc5-c5fb-c42d858c62b7"
      },
      "source": [
        "\n",
        "Y_train = np_utils.to_categorical(y_train, 10)\n",
        "Y_val = np_utils.to_categorical(y_val, 10)\n",
        "Y_test = np_utils.to_categorical(y_test, 10)\n",
        "print('Dữ liệu y ban đầu ', y_train[0])\n",
        "print('Dữ liệu y sau one-hot encoding ',Y_train[0])"
      ],
      "execution_count": 5,
      "outputs": [
        {
          "output_type": "stream",
          "text": [
            "Dữ liệu y ban đầu  5\n",
            "Dữ liệu y sau one-hot encoding  [0. 0. 0. 0. 0. 1. 0. 0. 0. 0.]\n"
          ],
          "name": "stdout"
        }
      ]
    },
    {
      "cell_type": "code",
      "metadata": {
        "id": "aJcOx91CwooR"
      },
      "source": [
        "\n",
        "model = Sequential()\n",
        "model.add(Conv2D(32, (3, 3), activation='sigmoid', input_shape=(28,28,1)))\n",
        "model.add(Conv2D(32, (3, 3), activation='sigmoid'))\n",
        "model.add(MaxPooling2D(pool_size=(2,2)))\n",
        "model.add(Flatten())\n",
        "model.add(Dense(128, activation='sigmoid'))\n",
        "model.add(Dense(10, activation='softmax'))\n"
      ],
      "execution_count": 6,
      "outputs": []
    },
    {
      "cell_type": "code",
      "metadata": {
        "id": "OPirLFu8w9O8",
        "colab": {
          "base_uri": "https://localhost:8080/"
        },
        "outputId": "773492f6-1259-4f76-b965-ea1f81e984aa"
      },
      "source": [
        "\n",
        "model.compile(loss='categorical_crossentropy',\n",
        "              optimizer='adam',\n",
        "              metrics=['accuracy'])\n",
        "model.summary()"
      ],
      "execution_count": 7,
      "outputs": [
        {
          "output_type": "stream",
          "text": [
            "Model: \"sequential\"\n",
            "_________________________________________________________________\n",
            "Layer (type)                 Output Shape              Param #   \n",
            "=================================================================\n",
            "conv2d (Conv2D)              (None, 26, 26, 32)        320       \n",
            "_________________________________________________________________\n",
            "conv2d_1 (Conv2D)            (None, 24, 24, 32)        9248      \n",
            "_________________________________________________________________\n",
            "max_pooling2d (MaxPooling2D) (None, 12, 12, 32)        0         \n",
            "_________________________________________________________________\n",
            "flatten (Flatten)            (None, 4608)              0         \n",
            "_________________________________________________________________\n",
            "dense (Dense)                (None, 128)               589952    \n",
            "_________________________________________________________________\n",
            "dense_1 (Dense)              (None, 10)                1290      \n",
            "=================================================================\n",
            "Total params: 600,810\n",
            "Trainable params: 600,810\n",
            "Non-trainable params: 0\n",
            "_________________________________________________________________\n"
          ],
          "name": "stdout"
        }
      ]
    },
    {
      "cell_type": "code",
      "metadata": {
        "colab": {
          "base_uri": "https://localhost:8080/"
        },
        "id": "xFALGdi4um9a",
        "outputId": "4a5a090d-8f7e-41a7-82a2-7f737a606548"
      },
      "source": [
        "\n",
        "H = model.fit(X_train, Y_train, validation_data=(X_val, Y_val),\n",
        "          batch_size=32, epochs=10, verbose=1)\n",
        "model.save('bpham.h5')\n"
      ],
      "execution_count": 8,
      "outputs": [
        {
          "output_type": "stream",
          "text": [
            "Epoch 1/10\n",
            "1563/1563 [==============================] - 38s 4ms/step - loss: 0.7720 - accuracy: 0.7626 - val_loss: 0.0728 - val_accuracy: 0.9806\n",
            "Epoch 2/10\n",
            "1563/1563 [==============================] - 6s 4ms/step - loss: 0.0656 - accuracy: 0.9815 - val_loss: 0.0504 - val_accuracy: 0.9850\n",
            "Epoch 3/10\n",
            "1563/1563 [==============================] - 6s 4ms/step - loss: 0.0390 - accuracy: 0.9884 - val_loss: 0.0454 - val_accuracy: 0.9874\n",
            "Epoch 4/10\n",
            "1563/1563 [==============================] - 6s 4ms/step - loss: 0.0253 - accuracy: 0.9927 - val_loss: 0.0423 - val_accuracy: 0.9875\n",
            "Epoch 5/10\n",
            "1563/1563 [==============================] - 6s 4ms/step - loss: 0.0157 - accuracy: 0.9961 - val_loss: 0.0410 - val_accuracy: 0.9875\n",
            "Epoch 6/10\n",
            "1563/1563 [==============================] - 5s 3ms/step - loss: 0.0110 - accuracy: 0.9975 - val_loss: 0.0453 - val_accuracy: 0.9870\n",
            "Epoch 7/10\n",
            "1563/1563 [==============================] - 6s 4ms/step - loss: 0.0069 - accuracy: 0.9985 - val_loss: 0.0434 - val_accuracy: 0.9883\n",
            "Epoch 8/10\n",
            "1563/1563 [==============================] - 6s 4ms/step - loss: 0.0057 - accuracy: 0.9986 - val_loss: 0.0430 - val_accuracy: 0.9871\n",
            "Epoch 9/10\n",
            "1563/1563 [==============================] - 5s 4ms/step - loss: 0.0045 - accuracy: 0.9990 - val_loss: 0.0416 - val_accuracy: 0.9890\n",
            "Epoch 10/10\n",
            "1563/1563 [==============================] - 6s 4ms/step - loss: 0.0028 - accuracy: 0.9995 - val_loss: 0.0469 - val_accuracy: 0.9877\n"
          ],
          "name": "stdout"
        }
      ]
    },
    {
      "cell_type": "code",
      "metadata": {
        "colab": {
          "base_uri": "https://localhost:8080/",
          "height": 312
        },
        "id": "6NBOYrh53dUs",
        "outputId": "c5bdc479-3f24-4bd9-d6b9-cbf0cf770ac9"
      },
      "source": [
        "\n",
        "fig = plt.figure()\n",
        "numOfEpoch = 10\n",
        "plt.plot(np.arange(0, numOfEpoch), H.history['loss'], label='training loss')\n",
        "plt.plot(np.arange(0, numOfEpoch), H.history['val_loss'], label='validation loss')\n",
        "plt.plot(np.arange(0, numOfEpoch), H.history['accuracy'], label='accuracy')\n",
        "plt.plot(np.arange(0, numOfEpoch), H.history['val_accuracy'], label='validation accuracy')\n",
        "plt.title('Accuracy and Loss')\n",
        "plt.xlabel('Epoch')\n",
        "plt.ylabel('Loss|Accuracy')\n",
        "plt.legend()"
      ],
      "execution_count": 9,
      "outputs": [
        {
          "output_type": "execute_result",
          "data": {
            "text/plain": [
              "<matplotlib.legend.Legend at 0x7f742a02e150>"
            ]
          },
          "metadata": {
            "tags": []
          },
          "execution_count": 9
        },
        {
          "output_type": "display_data",
          "data": {
            "image/png": "[encoded data removed]",
            "text/plain": [
              "<Figure size 432x288 with 1 Axes>"
            ]
          },
          "metadata": {
            "tags": [],
            "needs_background": "light"
          }
        }
      ]
    },
    {
      "cell_type": "code",
      "metadata": {
        "colab": {
          "base_uri": "https://localhost:8080/"
        },
        "id": "OQIAbR_n3mPg",
        "outputId": "d8e98090-be1e-44de-9707-bb15a9519f0a"
      },
      "source": [
        "\n",
        "score = model.evaluate(X_test, Y_test, verbose=0)\n",
        "print(score)"
      ],
      "execution_count": 10,
      "outputs": [
        {
          "output_type": "stream",
          "text": [
            "[0.0436379574239254, 0.9873999953269958]\n"
          ],
          "name": "stdout"
        }
      ]
    },
    {
      "cell_type": "code",
      "metadata": {
        "colab": {
          "base_uri": "https://localhost:8080/",
          "height": 282
        },
        "id": "bqa5S3Q43p9O",
        "outputId": "c706bc58-49ad-4078-9c02-a43c112f6106"
      },
      "source": [
        "\n",
        "plt.imshow(X_test[56].reshape(28,28), cmap='gray')\n",
        "\n",
        "y_predict = model.predict(X_test[56].reshape(1,28,28,1))\n",
        "print('Giá trị dự đoán: ', np.argmax(y_predict))"
      ],
      "execution_count": 11,
      "outputs": [
        {
          "output_type": "stream",
          "text": [
            "Giá trị dự đoán:  4\n"
          ],
          "name": "stdout"
        },
        {
          "output_type": "display_data",
          "data": {
            "image/png": "[encoded data removed]",
            "text/plain": [
              "<Figure size 432x288 with 1 Axes>"
            ]
          },
          "metadata": {
            "tags": [],
            "needs_background": "light"
          }
        }
      ]
    },
    {
      "cell_type": "markdown",
      "metadata": {
        "id": "PN3qOVLulPzw"
      },
      "source": [
        ""
      ]
    }
  ]
}